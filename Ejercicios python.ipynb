{
 "cells": [
  {
   "cell_type": "markdown",
   "id": "16f6decc-f567-46d5-8a21-625b708bfa3f",
   "metadata": {},
   "source": [
    "# Ejercicio #1"
   ]
  },
  {
   "cell_type": "markdown",
   "id": "2be40951-bc85-4836-b20c-4503ce500f1c",
   "metadata": {},
   "source": [
    "#### Par o Impar"
   ]
  },
  {
   "cell_type": "code",
   "execution_count": 3,
   "id": "be706b86-9c22-44fb-beed-ca24791d595f",
   "metadata": {},
   "outputs": [
    {
     "name": "stdin",
     "output_type": "stream",
     "text": [
      "Ingresa un número:  1\n"
     ]
    },
    {
     "name": "stdout",
     "output_type": "stream",
     "text": [
      "El número es impar\n"
     ]
    }
   ],
   "source": [
    "numero = int(input(\"Ingresa un número: \"))\n",
    "    \n",
    "if numero % 2 == 0:\n",
    "    print(\"El número es par\")\n",
    "else:\n",
    "    print(\"El número es impar\")\n",
    "    "
   ]
  },
  {
   "cell_type": "markdown",
   "id": "84f948ed-a963-4410-9996-7885867a78de",
   "metadata": {},
   "source": [
    "# Ejercicio #2"
   ]
  },
  {
   "cell_type": "markdown",
   "id": "a8081a15-c0d6-4b08-ba84-0daad3ec5eb7",
   "metadata": {},
   "source": [
    "#### Mad libs game"
   ]
  },
  {
   "cell_type": "code",
   "execution_count": 7,
   "id": "46247ce4-40a2-40aa-b67d-4a7a39d2673a",
   "metadata": {},
   "outputs": [
    {
     "name": "stdin",
     "output_type": "stream",
     "text": [
      "Ingresa un color:  rojo\n",
      "Ingresa un objeto:  maouse\n",
      "Ingresa un famoso:  jbalvin\n"
     ]
    },
    {
     "name": "stdout",
     "output_type": "stream",
     "text": [
      "Las rosas son rojo,\n",
      "El maouse es Azul,\n",
      "Yo te amo jbalvin.\n"
     ]
    }
   ],
   "source": [
    "color = input(\"Ingresa un color: \")\n",
    "objeto = input(\"Ingresa un objeto: \")\n",
    "famoso = input(\"Ingresa un famoso: \")\n",
    "\n",
    "print(\"Las rosas son \" + color + \",\")\n",
    "\n",
    "print(\"El \" + objeto + \" es Azul,\")\n",
    "\n",
    "print(\"Yo te amo \" + famoso + \".\")"
   ]
  },
  {
   "cell_type": "markdown",
   "id": "4eca0d69-5672-4346-98bf-715fce7c1c1b",
   "metadata": {},
   "source": [
    "# Ejercicio #3"
   ]
  },
  {
   "cell_type": "markdown",
   "id": "91a84d99-87b6-4ee9-af6e-f9499ad48690",
   "metadata": {},
   "source": [
    "#### El recuento de palabras"
   ]
  },
  {
   "cell_type": "code",
   "execution_count": 13,
   "id": "9bd4719e-6e64-4ed9-8214-8c8de4a3aa55",
   "metadata": {},
   "outputs": [
    {
     "name": "stdin",
     "output_type": "stream",
     "text": [
      "Ingresa un texto: hola me llamo alejandro y and haciendo tarea\n"
     ]
    },
    {
     "name": "stdout",
     "output_type": "stream",
     "text": [
      "Este texto tiene 8 palabras.\n"
     ]
    }
   ],
   "source": [
    "texto = input(\"Ingresa un texto:\")\n",
    "\n",
    "\n",
    "# default separator: space\n",
    "result = len(texto.split())\n",
    "\n",
    "print(\"Este texto tiene \" + str(result) + \" palabras.\")"
   ]
  },
  {
   "cell_type": "markdown",
   "id": "65f2ce93-e4d1-400c-a048-74c2319b8621",
   "metadata": {},
   "source": [
    "# Ejercicio #4"
   ]
  },
  {
   "cell_type": "markdown",
   "id": "d6a587b0-8c7a-4157-a77b-d54e81f4bd2b",
   "metadata": {},
   "source": [
    "#### Información biográfica"
   ]
  },
  {
   "cell_type": "code",
   "execution_count": 30,
   "id": "f79275bd-6432-4650-b87a-ef96aef24c80",
   "metadata": {},
   "outputs": [
    {
     "name": "stdin",
     "output_type": "stream",
     "text": [
      "Ingresa tu nombre: Erick\n",
      "Escribe tu edad:  kj\n"
     ]
    },
    {
     "name": "stdout",
     "output_type": "stream",
     "text": [
      "Debes escribir un número.\n",
      "Tu nombre es Erick y tienes 24 años.\n"
     ]
    }
   ],
   "source": [
    "nombre = input(\"Ingresa tu nombre:\")\n",
    "\n",
    "tipo = nombre.isalnum()\n",
    "\n",
    "if tipo == True:\n",
    "    \n",
    "    try:\n",
    "        edad = int(input(\"Escribe tu edad: \"))\n",
    "    except ValueError:\n",
    "        print(\"Debes escribir un número.\")\n",
    "        \n",
    "        \n",
    "else:\n",
    "    print (\"Error en el nombre ingresado\")\n",
    "print(\"Tu nombre es \" + nombre + \" y tienes \" + str(edad) +\" años.\")"
   ]
  },
  {
   "cell_type": "markdown",
   "id": "bbb32987-5131-4206-b7c8-9c9d26d945c3",
   "metadata": {},
   "source": [
    "# Ejercicio #5"
   ]
  },
  {
   "cell_type": "markdown",
   "id": "61f90e57-1afc-40db-9f6a-a20e41cdd659",
   "metadata": {},
   "source": [
    "#### ¿Cuál es mi acrónimo?"
   ]
  },
  {
   "cell_type": "code",
   "execution_count": 31,
   "id": "f9a3eacb-29a8-4831-b8e2-d282bc225105",
   "metadata": {},
   "outputs": [
    {
     "name": "stdin",
     "output_type": "stream",
     "text": [
      "frase: hola como estas\n"
     ]
    },
    {
     "name": "stdout",
     "output_type": "stream",
     "text": [
      "HCE\n"
     ]
    }
   ],
   "source": [
    "# INGRESO\n",
    "frase = input('frase:')\n",
    "\n",
    "# PROCEDIMIENTO\n",
    "n = len(frase)\n",
    "\n",
    "# Convierte frase a MAYUSCULAS\n",
    "frase = frase.upper()\n",
    "\n",
    "# inicializa salida z con la primera letra\n",
    "# de la primera palabra\n",
    "i = 0\n",
    "z = frase[i]\n",
    "\n",
    "# buscar la primera letra de cada palabra\n",
    "# a partir de la segunda posición\n",
    "# completar para 'de ' y revisar con 'desarrollo'\n",
    "i = 1\n",
    "while not(i>=(n-1)):\n",
    "    if (frase[i]==' ' and  not(frase[i+1]=='D')):\n",
    "        if not(frase[i+1]=='Y'):\n",
    "            z = z + frase[i+1]\n",
    "    i = i + 1\n",
    "\n",
    "# SALIDA\n",
    "print(z)"
   ]
  },
  {
   "cell_type": "markdown",
   "id": "8ab9a460-7858-4929-94ec-e2b81d540f98",
   "metadata": {},
   "source": [
    "# Ejercicio #6"
   ]
  },
  {
   "cell_type": "markdown",
   "id": "58b19fe7-0dfb-440d-8c85-f250ccd9cd28",
   "metadata": {},
   "source": [
    "#### Piedra Papel o tijeras"
   ]
  },
  {
   "cell_type": "code",
   "execution_count": 2,
   "id": "28c51e24-59f8-4800-a5b5-86d4c9bd33f0",
   "metadata": {},
   "outputs": [
    {
     "name": "stdout",
     "output_type": "stream",
     "text": [
      "Bienvenido al juego de piedra papel o tijeras\n",
      "\n"
     ]
    },
    {
     "ename": "KeyboardInterrupt",
     "evalue": "Interrupted by user",
     "output_type": "error",
     "traceback": [
      "\u001b[1;31m---------------------------------------------------------------------------\u001b[0m",
      "\u001b[1;31mKeyboardInterrupt\u001b[0m                         Traceback (most recent call last)",
      "Cell \u001b[1;32mIn [2], line 40\u001b[0m\n\u001b[0;32m     37\u001b[0m           \u001b[38;5;28mprint\u001b[39m(\u001b[38;5;124m\"\u001b[39m\u001b[38;5;124mGANASTE!\u001b[39m\u001b[38;5;124m\"\u001b[39m)\n\u001b[0;32m     39\u001b[0m     main()\n\u001b[1;32m---> 40\u001b[0m \u001b[43mmain\u001b[49m\u001b[43m(\u001b[49m\u001b[43m)\u001b[49m\n",
      "Cell \u001b[1;32mIn [2], line 12\u001b[0m, in \u001b[0;36mmain\u001b[1;34m()\u001b[0m\n\u001b[0;32m      8\u001b[0m computador \u001b[38;5;241m=\u001b[39m opciones[randint(\u001b[38;5;241m0\u001b[39m,\u001b[38;5;241m2\u001b[39m)]\n\u001b[0;32m     10\u001b[0m \u001b[38;5;28mprint\u001b[39m(\u001b[38;5;124m\"\u001b[39m\u001b[38;5;124mBienvenido al juego de piedra papel o tijeras\u001b[39m\u001b[38;5;130;01m\\n\u001b[39;00m\u001b[38;5;124m\"\u001b[39m)\n\u001b[1;32m---> 12\u001b[0m jugador \u001b[38;5;241m=\u001b[39m \u001b[38;5;28;43minput\u001b[39;49m\u001b[43m(\u001b[49m\u001b[38;5;124;43m\"\u001b[39;49m\u001b[38;5;124;43mTu turno: \u001b[39;49m\u001b[38;5;124;43m\"\u001b[39;49m\u001b[43m)\u001b[49m\u001b[38;5;241m.\u001b[39mlower()\n\u001b[0;32m     14\u001b[0m \u001b[38;5;28mprint\u001b[39m(\u001b[38;5;124m\"\u001b[39m\u001b[38;5;124mTurno del computador: \u001b[39m\u001b[38;5;124m\"\u001b[39m \u001b[38;5;241m+\u001b[39m computador)\n\u001b[0;32m     16\u001b[0m \u001b[38;5;28;01mif\u001b[39;00m jugador \u001b[38;5;241m==\u001b[39m computador:\n",
      "File \u001b[1;32m~\\desktop\\EjerciciosPython\\venv\\lib\\site-packages\\ipykernel\\kernelbase.py:1177\u001b[0m, in \u001b[0;36mKernel.raw_input\u001b[1;34m(self, prompt)\u001b[0m\n\u001b[0;32m   1173\u001b[0m \u001b[38;5;28;01mif\u001b[39;00m \u001b[38;5;129;01mnot\u001b[39;00m \u001b[38;5;28mself\u001b[39m\u001b[38;5;241m.\u001b[39m_allow_stdin:\n\u001b[0;32m   1174\u001b[0m     \u001b[38;5;28;01mraise\u001b[39;00m StdinNotImplementedError(\n\u001b[0;32m   1175\u001b[0m         \u001b[38;5;124m\"\u001b[39m\u001b[38;5;124mraw_input was called, but this frontend does not support input requests.\u001b[39m\u001b[38;5;124m\"\u001b[39m\n\u001b[0;32m   1176\u001b[0m     )\n\u001b[1;32m-> 1177\u001b[0m \u001b[38;5;28;01mreturn\u001b[39;00m \u001b[38;5;28;43mself\u001b[39;49m\u001b[38;5;241;43m.\u001b[39;49m\u001b[43m_input_request\u001b[49m\u001b[43m(\u001b[49m\n\u001b[0;32m   1178\u001b[0m \u001b[43m    \u001b[49m\u001b[38;5;28;43mstr\u001b[39;49m\u001b[43m(\u001b[49m\u001b[43mprompt\u001b[49m\u001b[43m)\u001b[49m\u001b[43m,\u001b[49m\n\u001b[0;32m   1179\u001b[0m \u001b[43m    \u001b[49m\u001b[38;5;28;43mself\u001b[39;49m\u001b[38;5;241;43m.\u001b[39;49m\u001b[43m_parent_ident\u001b[49m\u001b[43m[\u001b[49m\u001b[38;5;124;43m\"\u001b[39;49m\u001b[38;5;124;43mshell\u001b[39;49m\u001b[38;5;124;43m\"\u001b[39;49m\u001b[43m]\u001b[49m\u001b[43m,\u001b[49m\n\u001b[0;32m   1180\u001b[0m \u001b[43m    \u001b[49m\u001b[38;5;28;43mself\u001b[39;49m\u001b[38;5;241;43m.\u001b[39;49m\u001b[43mget_parent\u001b[49m\u001b[43m(\u001b[49m\u001b[38;5;124;43m\"\u001b[39;49m\u001b[38;5;124;43mshell\u001b[39;49m\u001b[38;5;124;43m\"\u001b[39;49m\u001b[43m)\u001b[49m\u001b[43m,\u001b[49m\n\u001b[0;32m   1181\u001b[0m \u001b[43m    \u001b[49m\u001b[43mpassword\u001b[49m\u001b[38;5;241;43m=\u001b[39;49m\u001b[38;5;28;43;01mFalse\u001b[39;49;00m\u001b[43m,\u001b[49m\n\u001b[0;32m   1182\u001b[0m \u001b[43m\u001b[49m\u001b[43m)\u001b[49m\n",
      "File \u001b[1;32m~\\desktop\\EjerciciosPython\\venv\\lib\\site-packages\\ipykernel\\kernelbase.py:1219\u001b[0m, in \u001b[0;36mKernel._input_request\u001b[1;34m(self, prompt, ident, parent, password)\u001b[0m\n\u001b[0;32m   1216\u001b[0m             \u001b[38;5;28;01mbreak\u001b[39;00m\n\u001b[0;32m   1217\u001b[0m \u001b[38;5;28;01mexcept\u001b[39;00m \u001b[38;5;167;01mKeyboardInterrupt\u001b[39;00m:\n\u001b[0;32m   1218\u001b[0m     \u001b[38;5;66;03m# re-raise KeyboardInterrupt, to truncate traceback\u001b[39;00m\n\u001b[1;32m-> 1219\u001b[0m     \u001b[38;5;28;01mraise\u001b[39;00m \u001b[38;5;167;01mKeyboardInterrupt\u001b[39;00m(\u001b[38;5;124m\"\u001b[39m\u001b[38;5;124mInterrupted by user\u001b[39m\u001b[38;5;124m\"\u001b[39m) \u001b[38;5;28;01mfrom\u001b[39;00m \u001b[38;5;28mNone\u001b[39m\n\u001b[0;32m   1220\u001b[0m \u001b[38;5;28;01mexcept\u001b[39;00m \u001b[38;5;167;01mException\u001b[39;00m:\n\u001b[0;32m   1221\u001b[0m     \u001b[38;5;28mself\u001b[39m\u001b[38;5;241m.\u001b[39mlog\u001b[38;5;241m.\u001b[39mwarning(\u001b[38;5;124m\"\u001b[39m\u001b[38;5;124mInvalid Message:\u001b[39m\u001b[38;5;124m\"\u001b[39m, exc_info\u001b[38;5;241m=\u001b[39m\u001b[38;5;28;01mTrue\u001b[39;00m)\n",
      "\u001b[1;31mKeyboardInterrupt\u001b[0m: Interrupted by user"
     ]
    }
   ],
   "source": [
    "from random import randint\n",
    "\n",
    "\n",
    "opciones = [\"Piedra\", \"Papel\", \"Tijeras\"]\n",
    "\n",
    "def main():\n",
    "    \n",
    "    computador = opciones[randint(0,2)]\n",
    "    \n",
    "    print(\"Bienvenido al juego de piedra papel o tijeras\\n\")\n",
    "    \n",
    "    jugador = input(\"Tu turno: \").lower()\n",
    "    \n",
    "    print(\"Turno del computador: \" + computador)\n",
    "    \n",
    "    if jugador == computador:\n",
    "        print(\"Empatados!!!!!\")\n",
    "        \n",
    "    elif jugador == \"Piedra\" and computador == \"Papel\":\n",
    "        print(\"El computador gana!\")\n",
    "        \n",
    "    elif jugador == \"Piedra\" and computador == \"Tijeras\":\n",
    "        print(\"GANASTE!\")\n",
    "        \n",
    "    elif jugador == \"Papel\" and computador == \"Piedra\":\n",
    "        print(\"GANASTE!\")\n",
    "        \n",
    "    elif jugador == \"Papel\" and computador == \"Tijeras\":\n",
    "        print(\"El computador gana!\")\n",
    "        \n",
    "    elif jugador == \"Tijeras\" and computador == \"Piedra\":\n",
    "        print(\"El computador gana!\")\n",
    "        \n",
    "    elif jugador == \"Tijeras\" and computador == \"Papel\":\n",
    "        print(\"GANASTE!\")\n",
    "    else:\n",
    "          print(\"GANASTE!\")\n",
    "\n",
    "    main()\n",
    "main()\n"
   ]
  },
  {
   "cell_type": "markdown",
   "id": "31089579-ef04-4eef-96e8-f6a81ac010c6",
   "metadata": {},
   "source": [
    "# Ejercicio #7"
   ]
  },
  {
   "cell_type": "markdown",
   "id": "afc64843-190e-4d30-a00a-058c901a604e",
   "metadata": {},
   "source": [
    "#### Adivina el número"
   ]
  },
  {
   "cell_type": "code",
   "execution_count": 4,
   "id": "bed95d55-f78f-4719-a302-bbc07520d7f4",
   "metadata": {},
   "outputs": [
    {
     "name": "stdin",
     "output_type": "stream",
     "text": [
      "Adivina un número entre 1 y 50:  40\n"
     ]
    },
    {
     "name": "stdout",
     "output_type": "stream",
     "text": [
      "Es un numero mas bajo. Inténtalo de nuevo\n"
     ]
    },
    {
     "name": "stdin",
     "output_type": "stream",
     "text": [
      "\n",
      "Adivina un número entre 1 y 50:  20\n"
     ]
    },
    {
     "name": "stdout",
     "output_type": "stream",
     "text": [
      "Es un numero mas bajo. Inténtalo de nuevo\n"
     ]
    },
    {
     "name": "stdin",
     "output_type": "stream",
     "text": [
      "\n",
      "Adivina un número entre 1 y 50:  10\n"
     ]
    },
    {
     "name": "stdout",
     "output_type": "stream",
     "text": [
      "Es un numero mas bajo. Inténtalo de nuevo\n"
     ]
    },
    {
     "name": "stdin",
     "output_type": "stream",
     "text": [
      "\n",
      "Adivina un número entre 1 y 50:  1\n"
     ]
    },
    {
     "name": "stdout",
     "output_type": "stream",
     "text": [
      "Es un numero mas alto. Inténtalo de nuevo\n"
     ]
    },
    {
     "name": "stdin",
     "output_type": "stream",
     "text": [
      "\n",
      "Adivina un número entre 1 y 50:  2\n"
     ]
    },
    {
     "name": "stdout",
     "output_type": "stream",
     "text": [
      "Es un numero mas alto. Inténtalo de nuevo\n"
     ]
    },
    {
     "name": "stdin",
     "output_type": "stream",
     "text": [
      "\n",
      "Adivina un número entre 1 y 50:  5\n"
     ]
    },
    {
     "name": "stdout",
     "output_type": "stream",
     "text": [
      "Es un numero mas alto. Inténtalo de nuevo\n"
     ]
    },
    {
     "name": "stdin",
     "output_type": "stream",
     "text": [
      "\n",
      "Adivina un número entre 1 y 50:  7\n"
     ]
    },
    {
     "name": "stdout",
     "output_type": "stream",
     "text": [
      "Es un numero mas alto. Inténtalo de nuevo\n"
     ]
    },
    {
     "name": "stdin",
     "output_type": "stream",
     "text": [
      "\n",
      "Adivina un número entre 1 y 50:  8\n"
     ]
    },
    {
     "name": "stdout",
     "output_type": "stream",
     "text": [
      "Es un numero mas alto. Inténtalo de nuevo\n"
     ]
    },
    {
     "name": "stdin",
     "output_type": "stream",
     "text": [
      "\n",
      "Adivina un número entre 1 y 50:  9\n"
     ]
    },
    {
     "name": "stdout",
     "output_type": "stream",
     "text": [
      "Adivinaste el número correcto!\n"
     ]
    }
   ],
   "source": [
    "import random\n",
    "\n",
    "numero = random.randrange(1,50)\n",
    "adivina = int(input(\"Adivina un número entre 1 y 50: \"))\n",
    "\n",
    "while adivina != numero :\n",
    "    if adivina < numero :\n",
    "        print(\"Es un numero mas alto. Inténtalo de nuevo\")\n",
    "        adivina = int(input(\"\\nAdivina un número entre 1 y 50: \"))\n",
    "    else:\n",
    "        print(\"Es un numero mas bajo. Inténtalo de nuevo\")\n",
    "        adivina = int(input(\"\\nAdivina un número entre 1 y 50: \"))\n",
    "              \n",
    "print(\"Adivinaste el número correcto!\")"
   ]
  },
  {
   "cell_type": "markdown",
   "id": "8fef0008-3513-41be-a3da-35da4093de8c",
   "metadata": {},
   "source": [
    "# Ejercicio #8"
   ]
  },
  {
   "cell_type": "markdown",
   "id": "edba753a-e813-4082-a27e-edfdbc455e66",
   "metadata": {},
   "source": [
    "#### Es un palindromo"
   ]
  },
  {
   "cell_type": "code",
   "execution_count": 9,
   "id": "d116de76-08fa-4c28-8f99-8b6bbe29d975",
   "metadata": {},
   "outputs": [
    {
     "name": "stdin",
     "output_type": "stream",
     "text": [
      "Ingresa palabra pera\n"
     ]
    },
    {
     "name": "stdout",
     "output_type": "stream",
     "text": [
      "No\n"
     ]
    }
   ],
   "source": [
    "def EsPalindromo(s):\n",
    "    return s == s[::-1]\n",
    "\n",
    "s = input(\"Ingresa palabra\")\n",
    "ans = EsPalindromo(s)\n",
    " \n",
    "if ans:\n",
    "    print(\"Si\")\n",
    "else:\n",
    "    print(\"No\")"
   ]
  },
  {
   "cell_type": "markdown",
   "id": "e33924b0-c5e2-452a-aebf-d098cf138588",
   "metadata": {},
   "source": [
    "# Ejercicio #9"
   ]
  },
  {
   "cell_type": "markdown",
   "id": "016829f3-f59a-4454-9cd4-191c9ea9db9c",
   "metadata": {},
   "source": [
    "#### Calcula la propina"
   ]
  },
  {
   "cell_type": "code",
   "execution_count": 34,
   "id": "3056653c-a798-4994-9e43-58385794080b",
   "metadata": {},
   "outputs": [
    {
     "name": "stdin",
     "output_type": "stream",
     "text": [
      "\n",
      "Ingrese total a pagar:  123\n"
     ]
    },
    {
     "name": "stdout",
     "output_type": "stream",
     "text": [
      "Propina 1: La propina del 18 % es de $22.14, lo que eleva su total a $145.14.\n",
      "Propina 2: La propina del 20 % es de $24.6, lo que eleva su total a $147.6.\n",
      "Propina 3: La propina del 25 % es de $30.75, lo que eleva su total a $153.75.\n"
     ]
    },
    {
     "name": "stdin",
     "output_type": "stream",
     "text": [
      "Ingrese numero de propina(1,2,3): 2\n"
     ]
    },
    {
     "name": "stdout",
     "output_type": "stream",
     "text": [
      "El total es de $147.6.\n",
      "Ingrese una propina.\n"
     ]
    },
    {
     "ename": "KeyboardInterrupt",
     "evalue": "Interrupted by user",
     "output_type": "error",
     "traceback": [
      "\u001b[1;31m---------------------------------------------------------------------------\u001b[0m",
      "\u001b[1;31mKeyboardInterrupt\u001b[0m                         Traceback (most recent call last)",
      "Cell \u001b[1;32mIn [34], line 3\u001b[0m\n\u001b[0;32m      1\u001b[0m \u001b[38;5;28;01mwhile\u001b[39;00m \u001b[38;5;28;01mTrue\u001b[39;00m:\n\u001b[0;32m      2\u001b[0m     \u001b[38;5;28;01mtry\u001b[39;00m:\n\u001b[1;32m----> 3\u001b[0m         x \u001b[38;5;241m=\u001b[39m \u001b[38;5;28mfloat\u001b[39m(\u001b[38;5;28;43minput\u001b[39;49m\u001b[43m(\u001b[49m\u001b[38;5;124;43m\"\u001b[39;49m\u001b[38;5;130;43;01m\\n\u001b[39;49;00m\u001b[38;5;124;43mIngrese total a pagar: \u001b[39;49m\u001b[38;5;124;43m\"\u001b[39;49m\u001b[43m)\u001b[49m)\n\u001b[0;32m      5\u001b[0m     \u001b[38;5;28;01mexcept\u001b[39;00m \u001b[38;5;167;01mValueError\u001b[39;00m:\n\u001b[0;32m      6\u001b[0m         \u001b[38;5;28mprint\u001b[39m(\u001b[38;5;124m\"\u001b[39m\u001b[38;5;124mLo siento, realmente necesitaba un número.\u001b[39m\u001b[38;5;124m\"\u001b[39m)\n",
      "File \u001b[1;32m~\\desktop\\EjerciciosPython\\venv\\lib\\site-packages\\ipykernel\\kernelbase.py:1177\u001b[0m, in \u001b[0;36mKernel.raw_input\u001b[1;34m(self, prompt)\u001b[0m\n\u001b[0;32m   1173\u001b[0m \u001b[38;5;28;01mif\u001b[39;00m \u001b[38;5;129;01mnot\u001b[39;00m \u001b[38;5;28mself\u001b[39m\u001b[38;5;241m.\u001b[39m_allow_stdin:\n\u001b[0;32m   1174\u001b[0m     \u001b[38;5;28;01mraise\u001b[39;00m StdinNotImplementedError(\n\u001b[0;32m   1175\u001b[0m         \u001b[38;5;124m\"\u001b[39m\u001b[38;5;124mraw_input was called, but this frontend does not support input requests.\u001b[39m\u001b[38;5;124m\"\u001b[39m\n\u001b[0;32m   1176\u001b[0m     )\n\u001b[1;32m-> 1177\u001b[0m \u001b[38;5;28;01mreturn\u001b[39;00m \u001b[38;5;28;43mself\u001b[39;49m\u001b[38;5;241;43m.\u001b[39;49m\u001b[43m_input_request\u001b[49m\u001b[43m(\u001b[49m\n\u001b[0;32m   1178\u001b[0m \u001b[43m    \u001b[49m\u001b[38;5;28;43mstr\u001b[39;49m\u001b[43m(\u001b[49m\u001b[43mprompt\u001b[49m\u001b[43m)\u001b[49m\u001b[43m,\u001b[49m\n\u001b[0;32m   1179\u001b[0m \u001b[43m    \u001b[49m\u001b[38;5;28;43mself\u001b[39;49m\u001b[38;5;241;43m.\u001b[39;49m\u001b[43m_parent_ident\u001b[49m\u001b[43m[\u001b[49m\u001b[38;5;124;43m\"\u001b[39;49m\u001b[38;5;124;43mshell\u001b[39;49m\u001b[38;5;124;43m\"\u001b[39;49m\u001b[43m]\u001b[49m\u001b[43m,\u001b[49m\n\u001b[0;32m   1180\u001b[0m \u001b[43m    \u001b[49m\u001b[38;5;28;43mself\u001b[39;49m\u001b[38;5;241;43m.\u001b[39;49m\u001b[43mget_parent\u001b[49m\u001b[43m(\u001b[49m\u001b[38;5;124;43m\"\u001b[39;49m\u001b[38;5;124;43mshell\u001b[39;49m\u001b[38;5;124;43m\"\u001b[39;49m\u001b[43m)\u001b[49m\u001b[43m,\u001b[49m\n\u001b[0;32m   1181\u001b[0m \u001b[43m    \u001b[49m\u001b[43mpassword\u001b[49m\u001b[38;5;241;43m=\u001b[39;49m\u001b[38;5;28;43;01mFalse\u001b[39;49;00m\u001b[43m,\u001b[49m\n\u001b[0;32m   1182\u001b[0m \u001b[43m\u001b[49m\u001b[43m)\u001b[49m\n",
      "File \u001b[1;32m~\\desktop\\EjerciciosPython\\venv\\lib\\site-packages\\ipykernel\\kernelbase.py:1219\u001b[0m, in \u001b[0;36mKernel._input_request\u001b[1;34m(self, prompt, ident, parent, password)\u001b[0m\n\u001b[0;32m   1216\u001b[0m             \u001b[38;5;28;01mbreak\u001b[39;00m\n\u001b[0;32m   1217\u001b[0m \u001b[38;5;28;01mexcept\u001b[39;00m \u001b[38;5;167;01mKeyboardInterrupt\u001b[39;00m:\n\u001b[0;32m   1218\u001b[0m     \u001b[38;5;66;03m# re-raise KeyboardInterrupt, to truncate traceback\u001b[39;00m\n\u001b[1;32m-> 1219\u001b[0m     \u001b[38;5;28;01mraise\u001b[39;00m \u001b[38;5;167;01mKeyboardInterrupt\u001b[39;00m(\u001b[38;5;124m\"\u001b[39m\u001b[38;5;124mInterrupted by user\u001b[39m\u001b[38;5;124m\"\u001b[39m) \u001b[38;5;28;01mfrom\u001b[39;00m \u001b[38;5;28mNone\u001b[39m\n\u001b[0;32m   1220\u001b[0m \u001b[38;5;28;01mexcept\u001b[39;00m \u001b[38;5;167;01mException\u001b[39;00m:\n\u001b[0;32m   1221\u001b[0m     \u001b[38;5;28mself\u001b[39m\u001b[38;5;241m.\u001b[39mlog\u001b[38;5;241m.\u001b[39mwarning(\u001b[38;5;124m\"\u001b[39m\u001b[38;5;124mInvalid Message:\u001b[39m\u001b[38;5;124m\"\u001b[39m, exc_info\u001b[38;5;241m=\u001b[39m\u001b[38;5;28;01mTrue\u001b[39;00m)\n",
      "\u001b[1;31mKeyboardInterrupt\u001b[0m: Interrupted by user"
     ]
    }
   ],
   "source": [
    "\n",
    "while True:\n",
    "    try:\n",
    "        x = float(input(\"\\nIngrese total a pagar: \"))\n",
    "        \n",
    "    except ValueError:\n",
    "        print(\"Lo siento, realmente necesitaba un número.\")\n",
    "\n",
    "    else:\n",
    "        prop1 = x * .18\n",
    "        propina1 = prop1 + x\n",
    "        prop2 = x * .20\n",
    "        propina2 = prop2 + x\n",
    "        prop3 = x * .25\n",
    "        propina3 = prop3 + x\n",
    "        \n",
    "        print(\"Propina 1: La propina del 18 % es de $\" + str(prop1) + \", lo que eleva su total a $\" + str(propina1) + \".\")\n",
    "        print(\"Propina 2: La propina del 20 % es de $\" + str(prop2) + \", lo que eleva su total a $\" + str(propina2) + \".\")\n",
    "        print(\"Propina 3: La propina del 25 % es de $\" + str(prop3) + \", lo que eleva su total a $\" + str(propina3) + \".\")\n",
    "        \n",
    "        opc = int(input(\"Ingrese numero de propina(1,2,3):\"))\n",
    "        \n",
    "       \n",
    "        if opc == 1:\n",
    "            print(\"El total es de $\" + str(propina1) + \".\")\n",
    "            \n",
    "        if opc == 2:\n",
    "            print(\"El total es de $\" + str(propina2) + \".\")\n",
    "                \n",
    "        if opc == 3:\n",
    "                print(\"El total es de $\" + str(propina3) + \".\")\n",
    "                    \n",
    "        else:\n",
    "                print(\"Ingrese una propina.\")\n",
    "        \n",
    "        \n",
    "        "
   ]
  },
  {
   "cell_type": "markdown",
   "id": "ca3a7ea4-613d-48e4-bb6e-9cab526ebc78",
   "metadata": {},
   "source": [
    "# Ejercicio #10"
   ]
  },
  {
   "cell_type": "markdown",
   "id": "c7f550a4-9b4d-42bb-b391-f824f162cd2d",
   "metadata": {},
   "source": [
    "#### Cortador de correo electrónico"
   ]
  },
  {
   "cell_type": "code",
   "execution_count": 36,
   "id": "99910c9f-f156-4269-be0c-c64baaa15ba9",
   "metadata": {},
   "outputs": [
    {
     "name": "stdin",
     "output_type": "stream",
     "text": [
      "¿Cuál es su dirección de correo electrónico?:  erick@gmail.com\n"
     ]
    },
    {
     "name": "stdout",
     "output_type": "stream",
     "text": [
      "Su nombre de usuario es erick y su nombre de dominio es gmail.com\n"
     ]
    }
   ],
   "source": [
    "\n",
    "email = input(\"¿Cuál es su dirección de correo electrónico?: \").strip()\n",
    "\n",
    "usuario = email[:email.index(\"@\")]\n",
    "\n",
    "nombre_dominio = email[email.index(\"@\")+1:]\n",
    "\n",
    "\n",
    "print(\"Su nombre de usuario es \" + usuario + \" y su nombre de dominio es \" + nombre_dominio + \"\".format(usuario,nombre_dominio))"
   ]
  },
  {
   "cell_type": "markdown",
   "id": "6574f6a3-3f55-4074-ab30-54925bd29e60",
   "metadata": {},
   "source": [
    "# Ejercicio #11"
   ]
  },
  {
   "cell_type": "markdown",
   "id": "e678e4ea-93ec-48ce-896e-2063a92bd263",
   "metadata": {},
   "source": [
    "#### Generador de letras"
   ]
  },
  {
   "cell_type": "code",
   "execution_count": 43,
   "id": "15f8b410-03e1-4402-a819-927b9d018401",
   "metadata": {},
   "outputs": [
    {
     "name": "stdout",
     "output_type": "stream",
     "text": [
      "Bienvenido al generador de letras, a continuacion se mostrara una lista de canciones:\n",
      "1. Love Artista: Kendrick Lamar\n",
      "2. Azul Artista: Jbalvin\n",
      "3. One Artista: Metallica\n",
      "4. Enloquecido Artista: Grupo Arriesgado\n"
     ]
    },
    {
     "name": "stdin",
     "output_type": "stream",
     "text": [
      "Ingrese numero de cancion(1,2,3,4): 1\n"
     ]
    },
    {
     "name": "stdout",
     "output_type": "stream",
     "text": [
      "Seleccionaste: Love Artista: Kendrick Lamar\n",
      "--------------Letra----------------\n",
      "Damn\n",
      "Love or lust\n",
      "Damn\n",
      "All of us\n",
      "Give me a run for my money\n",
      "There is nobody, no one to outrun me\n",
      "(Another world premiere)\n",
      "So give me a run for my money\n",
      "Sippin' bubbly, feelin' lovely\n",
      "Livin' lovely\n",
      "Just love me........\n",
      "Ingrese una cancion.\n"
     ]
    }
   ],
   "source": [
    "print(\"Bienvenido al generador de letras, a continuacion se mostrara una lista de canciones:\")\n",
    "print(\"1. Love Artista: Kendrick Lamar\")\n",
    "print(\"2. Azul Artista: Jbalvin\")\n",
    "print(\"3. One Artista: Metallica\")\n",
    "print(\"4. Enloquecido Artista: Grupo Arriesgado\")\n",
    "\n",
    "letra = int(input(\"Ingrese numero de cancion(1,2,3,4):\"))\n",
    "\n",
    "if letra == 1:\n",
    "    print(\"Seleccionaste: Love Artista: Kendrick Lamar\")\n",
    "    print(\"--------------Letra----------------\")\n",
    "    print(\"Damn\\nLove or lust\\nDamn\\nAll of us\\nGive me a run for my money\\nThere is nobody, no one to outrun me\\n(Another world premiere)\\nSo give me a run for my money\\nSippin' bubbly, feelin' lovely\\nLivin' lovely\\nJust love me........\")\n",
    "\n",
    "if letra == 2:\n",
    "    print(\"Seleccionaste: Azul Artista: Jbalvin\")\n",
    "    print(\"--------------Letra----------------\")\n",
    "    print(\"Le gusta salir y amanecer\\nBeber y enloquecerse\\nY cuando el día termine\\nNo sé si la vuelvo a ver\\nY yo que no traje bloqueador pa tanto calor que quema........\")\n",
    "if letra == 3:\n",
    "    print(\"Seleccionaste: One Artista: Metallica\")\n",
    "    print(\"--------------Letra----------------\")\n",
    "    print(\"I can't remember anything\\nCan't tell if this is true or a dream\\nDeep down inside I feel to scream\\nThis terrible silence stops me\")\n",
    "if letra == 4:\n",
    "    print(\"Seleccionaste: Enloquecido Artista: Grupo Arriesgado\")\n",
    "    print(\"--------------Letra----------------\")\n",
    "    print(\"Y estoy enloquecido\\nConvencido\\n\\nQue he ganado y perdido a la vez\\nGané tu amor\\nPerdí mi libertad\\nEl amor es un cuento de nunca acabar\")\n",
    "\n",
    "else:\n",
    "    print(\"Ingrese una cancion.\")\n",
    "\n",
    "\n"
   ]
  },
  {
   "cell_type": "code",
   "execution_count": null,
   "id": "c321c941-b95f-46cf-8a0f-6c5ce4719b3c",
   "metadata": {},
   "outputs": [],
   "source": []
  }
 ],
 "metadata": {
  "kernelspec": {
   "display_name": "Python 3 (ipykernel)",
   "language": "python",
   "name": "python3"
  },
  "language_info": {
   "codemirror_mode": {
    "name": "ipython",
    "version": 3
   },
   "file_extension": ".py",
   "mimetype": "text/x-python",
   "name": "python",
   "nbconvert_exporter": "python",
   "pygments_lexer": "ipython3",
   "version": "3.10.8"
  }
 },
 "nbformat": 4,
 "nbformat_minor": 5
}
